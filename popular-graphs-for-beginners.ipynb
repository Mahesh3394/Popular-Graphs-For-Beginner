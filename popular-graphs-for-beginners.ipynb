{
 "cells": [
  {
   "cell_type": "markdown",
   "id": "1422f6a5",
   "metadata": {
    "papermill": {
     "duration": 0.036894,
     "end_time": "2021-07-20T07:31:21.346359",
     "exception": false,
     "start_time": "2021-07-20T07:31:21.309465",
     "status": "completed"
    },
    "tags": []
   },
   "source": [
    "## In this notebook we will see the most commonly use Plots/Graphs in data science with Toy case and practical example"
   ]
  },
  {
   "cell_type": "markdown",
   "id": "1bfadf4c",
   "metadata": {
    "papermill": {
     "duration": 0.035222,
     "end_time": "2021-07-20T07:31:21.417767",
     "exception": false,
     "start_time": "2021-07-20T07:31:21.382545",
     "status": "completed"
    },
    "tags": []
   },
   "source": [
    "![viz](https://sm.pcmag.com/t/pcmag_in/feature/1/10-free-da/10-free-data-visualization-tools_5un4.1920.jpg)"
   ]
  },
  {
   "cell_type": "markdown",
   "id": "588a3925",
   "metadata": {
    "papermill": {
     "duration": 0.036418,
     "end_time": "2021-07-20T07:31:21.489846",
     "exception": false,
     "start_time": "2021-07-20T07:31:21.453428",
     "status": "completed"
    },
    "tags": []
   },
   "source": [
    "## We can increase our plot understanding by applying the following code\n",
    "\n",
    "`plt.title(“My Title”)` will add a title “My Title” to your plot\n",
    "\n",
    "`plt.xlabel(“Year”)` will add a label “Year” to your x-axis\n",
    "\n",
    "`plt.ylabel(“Population”)` will add a label “Population” to your y-axis\n",
    "\n",
    "`plt.xticks([1, 2, 3, 4, 5])` set the numbers on the x-axis to be 1, 2, 3, 4, 5. We can also pass and labels as a second argument. \n",
    "\n",
    "For, example, if we use this code `plt.xticks([1, 2, 3, 4, 5]`, [\"1M\", \"2M\", \"3M\", \"4M\", \"5M\"]), it will set the labels 1M, 2M, 3M, 4M, 5M on the x-axis.\n",
    "\n",
    "`plt.yticks()` - works the same as plt.xticks(), but for the y-axis.\n",
    "\n",
    "`plt.figure(figsize=(12,10))` - we can adjust the size of figure using this\n"
   ]
  },
  {
   "cell_type": "markdown",
   "id": "0e902f14",
   "metadata": {
    "papermill": {
     "duration": 0.03479,
     "end_time": "2021-07-20T07:31:21.559774",
     "exception": false,
     "start_time": "2021-07-20T07:31:21.524984",
     "status": "completed"
    },
    "tags": []
   },
   "source": [
    "### Importing libraries"
   ]
  },
  {
   "cell_type": "code",
   "execution_count": 1,
   "id": "944a3252",
   "metadata": {
    "_kg_hide-input": true,
    "execution": {
     "iopub.execute_input": "2021-07-20T07:31:21.646511Z",
     "iopub.status.busy": "2021-07-20T07:31:21.645044Z",
     "iopub.status.idle": "2021-07-20T07:31:22.923447Z",
     "shell.execute_reply": "2021-07-20T07:31:22.924060Z",
     "shell.execute_reply.started": "2021-07-20T07:27:49.241415Z"
    },
    "papermill": {
     "duration": 1.327847,
     "end_time": "2021-07-20T07:31:22.924509",
     "exception": false,
     "start_time": "2021-07-20T07:31:21.596662",
     "status": "completed"
    },
    "tags": []
   },
   "outputs": [],
   "source": [
    "# Importing libraries\n",
    "import pandas as pd\n",
    "import numpy as np\n",
    "import matplotlib.pyplot as plt\n",
    "import seaborn as sns\n",
    "plt.style.use('fivethirtyeight')"
   ]
  },
  {
   "cell_type": "markdown",
   "id": "706b95c6",
   "metadata": {
    "papermill": {
     "duration": 0.03605,
     "end_time": "2021-07-20T07:31:22.999325",
     "exception": false,
     "start_time": "2021-07-20T07:31:22.963275",
     "status": "completed"
    },
    "tags": []
   },
   "source": [
    "### Read dataset"
   ]
  },
  {
   "cell_type": "code",
   "execution_count": 2,
   "id": "583266f4",
   "metadata": {
    "_kg_hide-input": true,
    "execution": {
     "iopub.execute_input": "2021-07-20T07:31:23.076868Z",
     "iopub.status.busy": "2021-07-20T07:31:23.075808Z",
     "iopub.status.idle": "2021-07-20T07:31:23.186486Z",
     "shell.execute_reply": "2021-07-20T07:31:23.185584Z",
     "shell.execute_reply.started": "2021-07-20T07:27:49.251868Z"
    },
    "papermill": {
     "duration": 0.15005,
     "end_time": "2021-07-20T07:31:23.186723",
     "exception": false,
     "start_time": "2021-07-20T07:31:23.036673",
     "status": "completed"
    },
    "tags": []
   },
   "outputs": [],
   "source": [
    "mobile = pd.read_csv('../input/mobile-price-classification/train.csv')\n",
    "titanic = pd.read_csv('../input/c/titanic/train.csv')\n",
    "house = pd.read_csv('../input/house-prices-advanced-regression-techniques/train.csv')\n",
    "\n",
    "# Datetime dataset\n",
    "comp = pd.read_csv('../input/time-series-starter-dataset/Month_Value_1.csv',parse_dates=['Period'])"
   ]
  },
  {
   "cell_type": "markdown",
   "id": "cf255de5",
   "metadata": {
    "papermill": {
     "duration": 0.034958,
     "end_time": "2021-07-20T07:31:23.257706",
     "exception": false,
     "start_time": "2021-07-20T07:31:23.222748",
     "status": "completed"
    },
    "tags": []
   },
   "source": [
    "# Bar Chart"
   ]
  },
  {
   "cell_type": "markdown",
   "id": "6698aeb1",
   "metadata": {
    "papermill": {
     "duration": 0.034807,
     "end_time": "2021-07-20T07:31:23.327660",
     "exception": false,
     "start_time": "2021-07-20T07:31:23.292853",
     "status": "completed"
    },
    "tags": []
   },
   "source": [
    "## Toy Example"
   ]
  },
  {
   "cell_type": "code",
   "execution_count": 3,
   "id": "c2b7c413",
   "metadata": {
    "execution": {
     "iopub.execute_input": "2021-07-20T07:31:23.446442Z",
     "iopub.status.busy": "2021-07-20T07:31:23.445612Z",
     "iopub.status.idle": "2021-07-20T07:31:23.626644Z",
     "shell.execute_reply": "2021-07-20T07:31:23.627181Z",
     "shell.execute_reply.started": "2021-07-20T07:27:49.323793Z"
    },
    "papermill": {
     "duration": 0.263412,
     "end_time": "2021-07-20T07:31:23.627386",
     "exception": false,
     "start_time": "2021-07-20T07:31:23.363974",
     "status": "completed"
    },
    "tags": []
   },
   "outputs": [
    {
     "data": {
      "text/plain": [
       "<AxesSubplot:xlabel='Day', ylabel='Hours'>"
      ]
     },
     "execution_count": 3,
     "metadata": {},
     "output_type": "execute_result"
    },
    {
     "data": {
      "image/png": "[encoded data removed]",
      "text/plain": [
       "<Figure size 432x288 with 1 Axes>"
      ]
     },
     "metadata": {},
     "output_type": "display_data"
    }
   ],
   "source": [
    "ds = {'Day':['Mon', 'Tue', 'Wed', 'Thu', 'Fri'], 'Hours':[8,7,11,9,6]}\n",
    "dx = pd.DataFrame(ds)\n",
    "sns.barplot(x='Day', y='Hours', data=dx)"
   ]
  },
  {
   "cell_type": "markdown",
   "id": "3bdba77b",
   "metadata": {
    "papermill": {
     "duration": 0.036265,
     "end_time": "2021-07-20T07:31:23.700673",
     "exception": false,
     "start_time": "2021-07-20T07:31:23.664408",
     "status": "completed"
    },
    "tags": []
   },
   "source": [
    "`sns.barplot(x='Day', y='Hours', data=dx)`\n",
    "\n",
    "`x` : for x axis (Column name)\n",
    "\n",
    "`y` : for y axis (Column name)\n",
    "\n",
    "`data` = dataframe where we take column\n"
   ]
  },
  {
   "cell_type": "markdown",
   "id": "a950f4ad",
   "metadata": {
    "papermill": {
     "duration": 0.036138,
     "end_time": "2021-07-20T07:31:23.773151",
     "exception": false,
     "start_time": "2021-07-20T07:31:23.737013",
     "status": "completed"
    },
    "tags": []
   },
   "source": [
    "## Practical Example"
   ]
  },
  {
   "cell_type": "code",
   "execution_count": 4,
   "id": "9e6173ca",
   "metadata": {
    "execution": {
     "iopub.execute_input": "2021-07-20T07:31:23.857547Z",
     "iopub.status.busy": "2021-07-20T07:31:23.856730Z",
     "iopub.status.idle": "2021-07-20T07:31:24.316925Z",
     "shell.execute_reply": "2021-07-20T07:31:24.316261Z",
     "shell.execute_reply.started": "2021-07-20T07:27:49.483058Z"
    },
    "papermill": {
     "duration": 0.507347,
     "end_time": "2021-07-20T07:31:24.317121",
     "exception": false,
     "start_time": "2021-07-20T07:31:23.809774",
     "status": "completed"
    },
    "tags": []
   },
   "outputs": [
    {
     "data": {
      "text/plain": [
       "<AxesSubplot:xlabel='Sex', ylabel='Survived'>"
      ]
     },
     "execution_count": 4,
     "metadata": {},
     "output_type": "execute_result"
    },
    {
     "data": {
      "image/png": "[encoded data removed]",
      "text/plain": [
       "<Figure size 432x288 with 1 Axes>"
      ]
     },
     "metadata": {},
     "output_type": "display_data"
    }
   ],
   "source": [
    "sns.barplot(y='Survived', x='Sex', hue='Pclass', data=titanic)"
   ]
  },
  {
   "cell_type": "markdown",
   "id": "0606d5c4",
   "metadata": {
    "papermill": {
     "duration": 0.037694,
     "end_time": "2021-07-20T07:31:24.395470",
     "exception": false,
     "start_time": "2021-07-20T07:31:24.357776",
     "status": "completed"
    },
    "tags": []
   },
   "source": [
    "* We see that in 1 Pclass more male as well as feamale survive"
   ]
  },
  {
   "cell_type": "code",
   "execution_count": 5,
   "id": "4156228e",
   "metadata": {
    "execution": {
     "iopub.execute_input": "2021-07-20T07:31:24.485744Z",
     "iopub.status.busy": "2021-07-20T07:31:24.482975Z",
     "iopub.status.idle": "2021-07-20T07:31:24.919419Z",
     "shell.execute_reply": "2021-07-20T07:31:24.919996Z",
     "shell.execute_reply.started": "2021-07-20T07:27:49.811146Z"
    },
    "papermill": {
     "duration": 0.486959,
     "end_time": "2021-07-20T07:31:24.920227",
     "exception": false,
     "start_time": "2021-07-20T07:31:24.433268",
     "status": "completed"
    },
    "tags": []
   },
   "outputs": [
    {
     "data": {
      "text/plain": [
       "<AxesSubplot:xlabel='Embarked', ylabel='Survived'>"
      ]
     },
     "execution_count": 5,
     "metadata": {},
     "output_type": "execute_result"
    },
    {
     "data": {
      "image/png": "[encoded data removed]",
      "text/plain": [
       "<Figure size 432x288 with 1 Axes>"
      ]
     },
     "metadata": {},
     "output_type": "display_data"
    }
   ],
   "source": [
    "sns.barplot(y='Survived', x='Embarked', hue='Sex', data=titanic)"
   ]
  },
  {
   "cell_type": "markdown",
   "id": "e300219f",
   "metadata": {
    "papermill": {
     "duration": 0.040134,
     "end_time": "2021-07-20T07:31:24.999679",
     "exception": false,
     "start_time": "2021-07-20T07:31:24.959545",
     "status": "completed"
    },
    "tags": []
   },
   "source": [
    "* In C embark more male feamale survived"
   ]
  },
  {
   "cell_type": "markdown",
   "id": "4caa498c",
   "metadata": {
    "papermill": {
     "duration": 0.039564,
     "end_time": "2021-07-20T07:31:25.080904",
     "exception": false,
     "start_time": "2021-07-20T07:31:25.041340",
     "status": "completed"
    },
    "tags": []
   },
   "source": [
    "Ignore the gray line that define confidence interval (it because our dataset has NaN values)"
   ]
  },
  {
   "cell_type": "markdown",
   "id": "49527227",
   "metadata": {
    "papermill": {
     "duration": 0.03961,
     "end_time": "2021-07-20T07:31:25.159858",
     "exception": false,
     "start_time": "2021-07-20T07:31:25.120248",
     "status": "completed"
    },
    "tags": []
   },
   "source": [
    "# Line Chart"
   ]
  },
  {
   "cell_type": "code",
   "execution_count": 6,
   "id": "6803a54b",
   "metadata": {
    "execution": {
     "iopub.execute_input": "2021-07-20T07:31:25.269338Z",
     "iopub.status.busy": "2021-07-20T07:31:25.268131Z",
     "iopub.status.idle": "2021-07-20T07:31:25.424539Z",
     "shell.execute_reply": "2021-07-20T07:31:25.423854Z",
     "shell.execute_reply.started": "2021-07-20T07:27:50.177275Z"
    },
    "papermill": {
     "duration": 0.225863,
     "end_time": "2021-07-20T07:31:25.424727",
     "exception": false,
     "start_time": "2021-07-20T07:31:25.198864",
     "status": "completed"
    },
    "tags": []
   },
   "outputs": [
    {
     "data": {
      "text/plain": [
       "<AxesSubplot:xlabel='Day', ylabel='Hours'>"
      ]
     },
     "execution_count": 6,
     "metadata": {},
     "output_type": "execute_result"
    },
    {
     "data": {
      "image/png": "[encoded data removed]",
      "text/plain": [
       "<Figure size 432x288 with 1 Axes>"
      ]
     },
     "metadata": {},
     "output_type": "display_data"
    }
   ],
   "source": [
    "sns.lineplot(x='Day',y='Hours', data=dx)"
   ]
  },
  {
   "cell_type": "code",
   "execution_count": 7,
   "id": "51ac180a",
   "metadata": {
    "execution": {
     "iopub.execute_input": "2021-07-20T07:31:25.565314Z",
     "iopub.status.busy": "2021-07-20T07:31:25.540083Z",
     "iopub.status.idle": "2021-07-20T07:31:25.738123Z",
     "shell.execute_reply": "2021-07-20T07:31:25.737362Z",
     "shell.execute_reply.started": "2021-07-20T07:27:50.328342Z"
    },
    "papermill": {
     "duration": 0.272283,
     "end_time": "2021-07-20T07:31:25.738284",
     "exception": false,
     "start_time": "2021-07-20T07:31:25.466001",
     "status": "completed"
    },
    "tags": []
   },
   "outputs": [
    {
     "data": {
      "text/plain": [
       "<AxesSubplot:xlabel='Period', ylabel='Sales_quantity'>"
      ]
     },
     "execution_count": 7,
     "metadata": {},
     "output_type": "execute_result"
    },
    {
     "data": {
      "image/png": "[encoded data removed]",
      "text/plain": [
       "<Figure size 432x288 with 1 Axes>"
      ]
     },
     "metadata": {},
     "output_type": "display_data"
    }
   ],
   "source": [
    "sns.lineplot(x='Period',y='Sales_quantity', data=comp)"
   ]
  },
  {
   "cell_type": "markdown",
   "id": "0c085558",
   "metadata": {
    "papermill": {
     "duration": 0.042725,
     "end_time": "2021-07-20T07:31:25.822966",
     "exception": false,
     "start_time": "2021-07-20T07:31:25.780241",
     "status": "completed"
    },
    "tags": []
   },
   "source": [
    "* Sales quantity are decreasing at the starting of the year  \n",
    "* overall increasing in sales quantity over time"
   ]
  },
  {
   "cell_type": "markdown",
   "id": "10e67a2b",
   "metadata": {
    "papermill": {
     "duration": 0.041543,
     "end_time": "2021-07-20T07:31:25.906864",
     "exception": false,
     "start_time": "2021-07-20T07:31:25.865321",
     "status": "completed"
    },
    "tags": []
   },
   "source": [
    "# Scatterplot"
   ]
  },
  {
   "cell_type": "code",
   "execution_count": 8,
   "id": "eb670a3b",
   "metadata": {
    "_kg_hide-input": true,
    "execution": {
     "iopub.execute_input": "2021-07-20T07:31:26.010669Z",
     "iopub.status.busy": "2021-07-20T07:31:26.009548Z",
     "iopub.status.idle": "2021-07-20T07:31:26.062848Z",
     "shell.execute_reply": "2021-07-20T07:31:26.063371Z",
     "shell.execute_reply.started": "2021-07-20T07:27:50.728624Z"
    },
    "jupyter": {
     "source_hidden": true
    },
    "papermill": {
     "duration": 0.114401,
     "end_time": "2021-07-20T07:31:26.063584",
     "exception": false,
     "start_time": "2021-07-20T07:31:25.949183",
     "status": "completed"
    },
    "tags": []
   },
   "outputs": [
    {
     "name": "stdout",
     "output_type": "stream",
     "text": [
      "Your selected dataframe has 81 columns.\n",
      "There are 19 columns that have missing values.\n"
     ]
    }
   ],
   "source": [
    "# To get insight from dataset\n",
    "def missing_values_table(df):\n",
    "        # Total missing values\n",
    "        mis_val = df.isnull().sum()\n",
    "        \n",
    "        # Percentage of missing values\n",
    "        mis_val_percent = 100 * df.isnull().sum() / len(df)\n",
    "        \n",
    "                \n",
    "        # Coumn for dtypes\n",
    "        dtype = df.dtypes\n",
    "        \n",
    "        # Column for Unique values\n",
    "        num_unique = []\n",
    "        for col in df.columns:\n",
    "            num_unique.append(df[col].nunique())\n",
    "        num_unique = pd.Series(num_unique)\n",
    "        num_unique.index = df.columns\n",
    "        \n",
    "        # Make a table with the results\n",
    "        mis_val_table = pd.concat([mis_val, mis_val_percent,dtype,num_unique], axis=1)\n",
    "        \n",
    "        # Rename the columns\n",
    "        mis_val_table_ren_columns = mis_val_table.rename(\n",
    "        columns = {0 : 'Missing Values', 1 : '% of Total Values', 2:'Data Types', 3:'Unique_values'})\n",
    "        \n",
    "        # Sort the table by percentage of missing descending\n",
    "        mis_val_table_ren_columns = mis_val_table_ren_columns.sort_values('% of Total Values', ascending=False).round(1)\n",
    "        \n",
    "        # Print some summary information\n",
    "        print(\"Your selected dataframe has \" + str(df.shape[1]) + \" columns.\\n\"      \n",
    "            \"There are \" + str(mis_val_table_ren_columns[\n",
    "            mis_val_table_ren_columns.iloc[:,1] != 0].shape[0]) + \n",
    "              \" columns that have missing values.\")\n",
    "        \n",
    "        # Return the dataframe with missing information\n",
    "        return mis_val_table_ren_columns,num_unique\n",
    "a, k = missing_values_table(house)\n",
    "k.index = house.columns"
   ]
  },
  {
   "cell_type": "code",
   "execution_count": 9,
   "id": "c696b33b",
   "metadata": {
    "execution": {
     "iopub.execute_input": "2021-07-20T07:31:26.156178Z",
     "iopub.status.busy": "2021-07-20T07:31:26.155385Z",
     "iopub.status.idle": "2021-07-20T07:31:26.159038Z",
     "shell.execute_reply": "2021-07-20T07:31:26.158340Z",
     "shell.execute_reply.started": "2021-07-20T07:27:50.781572Z"
    },
    "papermill": {
     "duration": 0.052408,
     "end_time": "2021-07-20T07:31:26.159222",
     "exception": false,
     "start_time": "2021-07-20T07:31:26.106814",
     "status": "completed"
    },
    "tags": []
   },
   "outputs": [],
   "source": [
    "x = range(50)\n",
    "y = range(50) + np.random.randint(0,20,50)"
   ]
  },
  {
   "cell_type": "code",
   "execution_count": 10,
   "id": "546d66bb",
   "metadata": {
    "execution": {
     "iopub.execute_input": "2021-07-20T07:31:26.274942Z",
     "iopub.status.busy": "2021-07-20T07:31:26.273964Z",
     "iopub.status.idle": "2021-07-20T07:31:26.455643Z",
     "shell.execute_reply": "2021-07-20T07:31:26.456206Z",
     "shell.execute_reply.started": "2021-07-20T07:27:50.787873Z"
    },
    "papermill": {
     "duration": 0.25402,
     "end_time": "2021-07-20T07:31:26.456432",
     "exception": false,
     "start_time": "2021-07-20T07:31:26.202412",
     "status": "completed"
    },
    "tags": []
   },
   "outputs": [
    {
     "data": {
      "text/plain": [
       "<AxesSubplot:>"
      ]
     },
     "execution_count": 10,
     "metadata": {},
     "output_type": "execute_result"
    },
    {
     "data": {
      "image/png": "[encoded data removed]",
      "text/plain": [
       "<Figure size 432x288 with 1 Axes>"
      ]
     },
     "metadata": {},
     "output_type": "display_data"
    }
   ],
   "source": [
    "sns.scatterplot(x=x, y=y)"
   ]
  },
  {
   "cell_type": "code",
   "execution_count": 11,
   "id": "e93e9916",
   "metadata": {
    "execution": {
     "iopub.execute_input": "2021-07-20T07:31:26.548524Z",
     "iopub.status.busy": "2021-07-20T07:31:26.547726Z",
     "iopub.status.idle": "2021-07-20T07:31:26.569767Z",
     "shell.execute_reply": "2021-07-20T07:31:26.569094Z",
     "shell.execute_reply.started": "2021-07-20T07:27:50.952821Z"
    },
    "papermill": {
     "duration": 0.069617,
     "end_time": "2021-07-20T07:31:26.569943",
     "exception": false,
     "start_time": "2021-07-20T07:31:26.500326",
     "status": "completed"
    },
    "tags": []
   },
   "outputs": [
    {
     "data": {
      "text/html": [
       "<div>\n",
       "<style scoped>\n",
       "    .dataframe tbody tr th:only-of-type {\n",
       "        vertical-align: middle;\n",
       "    }\n",
       "\n",
       "    .dataframe tbody tr th {\n",
       "        vertical-align: top;\n",
       "    }\n",
       "\n",
       "    .dataframe thead th {\n",
       "        text-align: right;\n",
       "    }\n",
       "</style>\n",
       "<table border=\"1\" class=\"dataframe\">\n",
       "  <thead>\n",
       "    <tr style=\"text-align: right;\">\n",
       "      <th></th>\n",
       "      <th>Period</th>\n",
       "      <th>Revenue</th>\n",
       "      <th>Sales_quantity</th>\n",
       "      <th>Average_cost</th>\n",
       "      <th>The_average_annual_payroll_of_the_region</th>\n",
       "    </tr>\n",
       "  </thead>\n",
       "  <tbody>\n",
       "    <tr>\n",
       "      <th>0</th>\n",
       "      <td>2015-01-01</td>\n",
       "      <td>1.601007e+07</td>\n",
       "      <td>12729.0</td>\n",
       "      <td>1257.763541</td>\n",
       "      <td>30024676.0</td>\n",
       "    </tr>\n",
       "    <tr>\n",
       "      <th>1</th>\n",
       "      <td>2015-01-02</td>\n",
       "      <td>1.580759e+07</td>\n",
       "      <td>11636.0</td>\n",
       "      <td>1358.507000</td>\n",
       "      <td>30024676.0</td>\n",
       "    </tr>\n",
       "    <tr>\n",
       "      <th>2</th>\n",
       "      <td>2015-01-03</td>\n",
       "      <td>2.204715e+07</td>\n",
       "      <td>15922.0</td>\n",
       "      <td>1384.697024</td>\n",
       "      <td>30024676.0</td>\n",
       "    </tr>\n",
       "    <tr>\n",
       "      <th>3</th>\n",
       "      <td>2015-01-04</td>\n",
       "      <td>1.881458e+07</td>\n",
       "      <td>15227.0</td>\n",
       "      <td>1235.606705</td>\n",
       "      <td>30024676.0</td>\n",
       "    </tr>\n",
       "    <tr>\n",
       "      <th>4</th>\n",
       "      <td>2015-01-05</td>\n",
       "      <td>1.402148e+07</td>\n",
       "      <td>8620.0</td>\n",
       "      <td>1626.621765</td>\n",
       "      <td>30024676.0</td>\n",
       "    </tr>\n",
       "  </tbody>\n",
       "</table>\n",
       "</div>"
      ],
      "text/plain": [
       "      Period       Revenue  Sales_quantity  Average_cost  \\\n",
       "0 2015-01-01  1.601007e+07         12729.0   1257.763541   \n",
       "1 2015-01-02  1.580759e+07         11636.0   1358.507000   \n",
       "2 2015-01-03  2.204715e+07         15922.0   1384.697024   \n",
       "3 2015-01-04  1.881458e+07         15227.0   1235.606705   \n",
       "4 2015-01-05  1.402148e+07          8620.0   1626.621765   \n",
       "\n",
       "   The_average_annual_payroll_of_the_region  \n",
       "0                                30024676.0  \n",
       "1                                30024676.0  \n",
       "2                                30024676.0  \n",
       "3                                30024676.0  \n",
       "4                                30024676.0  "
      ]
     },
     "execution_count": 11,
     "metadata": {},
     "output_type": "execute_result"
    }
   ],
   "source": [
    "comp.head()"
   ]
  },
  {
   "cell_type": "code",
   "execution_count": 12,
   "id": "b9aa0006",
   "metadata": {
    "execution": {
     "iopub.execute_input": "2021-07-20T07:31:26.694762Z",
     "iopub.status.busy": "2021-07-20T07:31:26.693897Z",
     "iopub.status.idle": "2021-07-20T07:31:26.868252Z",
     "shell.execute_reply": "2021-07-20T07:31:26.868872Z",
     "shell.execute_reply.started": "2021-07-20T07:27:50.968482Z"
    },
    "papermill": {
     "duration": 0.254141,
     "end_time": "2021-07-20T07:31:26.869109",
     "exception": false,
     "start_time": "2021-07-20T07:31:26.614968",
     "status": "completed"
    },
    "tags": []
   },
   "outputs": [
    {
     "data": {
      "text/plain": [
       "<AxesSubplot:xlabel='Revenue', ylabel='Sales_quantity'>"
      ]
     },
     "execution_count": 12,
     "metadata": {},
     "output_type": "execute_result"
    },
    {
     "data": {
      "image/png": "[encoded data removed]",
      "text/plain": [
       "<Figure size 432x288 with 1 Axes>"
      ]
     },
     "metadata": {},
     "output_type": "display_data"
    }
   ],
   "source": [
    "sns.scatterplot(x='Revenue', y='Sales_quantity', data=comp)"
   ]
  },
  {
   "cell_type": "markdown",
   "id": "43902876",
   "metadata": {
    "papermill": {
     "duration": 0.04704,
     "end_time": "2021-07-20T07:31:26.962813",
     "exception": false,
     "start_time": "2021-07-20T07:31:26.915773",
     "status": "completed"
    },
    "tags": []
   },
   "source": [
    "* Sales quantity and revenue has positive relation"
   ]
  },
  {
   "cell_type": "markdown",
   "id": "a3b6cd32",
   "metadata": {
    "papermill": {
     "duration": 0.045327,
     "end_time": "2021-07-20T07:31:27.054947",
     "exception": false,
     "start_time": "2021-07-20T07:31:27.009620",
     "status": "completed"
    },
    "tags": []
   },
   "source": [
    "# Pie Chart"
   ]
  },
  {
   "cell_type": "code",
   "execution_count": 13,
   "id": "cfe7c24c",
   "metadata": {
    "execution": {
     "iopub.execute_input": "2021-07-20T07:31:27.150839Z",
     "iopub.status.busy": "2021-07-20T07:31:27.150029Z",
     "iopub.status.idle": "2021-07-20T07:31:27.488875Z",
     "shell.execute_reply": "2021-07-20T07:31:27.489412Z",
     "shell.execute_reply.started": "2021-07-20T07:27:51.140146Z"
    },
    "papermill": {
     "duration": 0.389235,
     "end_time": "2021-07-20T07:31:27.489631",
     "exception": false,
     "start_time": "2021-07-20T07:31:27.100396",
     "status": "completed"
    },
    "tags": []
   },
   "outputs": [
    {
     "data": {
      "image/png": "[encoded data removed]",
      "text/plain": [
       "<Figure size 432x288 with 1 Axes>"
      ]
     },
     "metadata": {},
     "output_type": "display_data"
    }
   ],
   "source": [
    "y = np.array([35, 25, 25, 15])\n",
    "mylabels = [\"Apples\", \"Bananas\", \"Cherries\", \"Dates\"]\n",
    "plt.pie(y, labels = mylabels)\n",
    "plt.legend()\n",
    "plt.show() "
   ]
  },
  {
   "cell_type": "code",
   "execution_count": 14,
   "id": "1d26a952",
   "metadata": {
    "execution": {
     "iopub.execute_input": "2021-07-20T07:31:27.585986Z",
     "iopub.status.busy": "2021-07-20T07:31:27.585231Z",
     "iopub.status.idle": "2021-07-20T07:31:27.603597Z",
     "shell.execute_reply": "2021-07-20T07:31:27.604186Z",
     "shell.execute_reply.started": "2021-07-20T07:27:51.293352Z"
    },
    "papermill": {
     "duration": 0.068883,
     "end_time": "2021-07-20T07:31:27.604643",
     "exception": false,
     "start_time": "2021-07-20T07:31:27.535760",
     "status": "completed"
    },
    "tags": []
   },
   "outputs": [
    {
     "data": {
      "text/html": [
       "<div>\n",
       "<style scoped>\n",
       "    .dataframe tbody tr th:only-of-type {\n",
       "        vertical-align: middle;\n",
       "    }\n",
       "\n",
       "    .dataframe tbody tr th {\n",
       "        vertical-align: top;\n",
       "    }\n",
       "\n",
       "    .dataframe thead th {\n",
       "        text-align: right;\n",
       "    }\n",
       "</style>\n",
       "<table border=\"1\" class=\"dataframe\">\n",
       "  <thead>\n",
       "    <tr style=\"text-align: right;\">\n",
       "      <th></th>\n",
       "      <th>PassengerId</th>\n",
       "      <th>Survived</th>\n",
       "      <th>Pclass</th>\n",
       "      <th>Name</th>\n",
       "      <th>Sex</th>\n",
       "      <th>Age</th>\n",
       "      <th>SibSp</th>\n",
       "      <th>Parch</th>\n",
       "      <th>Ticket</th>\n",
       "      <th>Fare</th>\n",
       "      <th>Cabin</th>\n",
       "      <th>Embarked</th>\n",
       "    </tr>\n",
       "  </thead>\n",
       "  <tbody>\n",
       "    <tr>\n",
       "      <th>0</th>\n",
       "      <td>1</td>\n",
       "      <td>0</td>\n",
       "      <td>3</td>\n",
       "      <td>Braund, Mr. Owen Harris</td>\n",
       "      <td>male</td>\n",
       "      <td>22.0</td>\n",
       "      <td>1</td>\n",
       "      <td>0</td>\n",
       "      <td>A/5 21171</td>\n",
       "      <td>7.2500</td>\n",
       "      <td>NaN</td>\n",
       "      <td>S</td>\n",
       "    </tr>\n",
       "    <tr>\n",
       "      <th>1</th>\n",
       "      <td>2</td>\n",
       "      <td>1</td>\n",
       "      <td>1</td>\n",
       "      <td>Cumings, Mrs. John Bradley (Florence Briggs Th...</td>\n",
       "      <td>female</td>\n",
       "      <td>38.0</td>\n",
       "      <td>1</td>\n",
       "      <td>0</td>\n",
       "      <td>PC 17599</td>\n",
       "      <td>71.2833</td>\n",
       "      <td>C85</td>\n",
       "      <td>C</td>\n",
       "    </tr>\n",
       "    <tr>\n",
       "      <th>2</th>\n",
       "      <td>3</td>\n",
       "      <td>1</td>\n",
       "      <td>3</td>\n",
       "      <td>Heikkinen, Miss. Laina</td>\n",
       "      <td>female</td>\n",
       "      <td>26.0</td>\n",
       "      <td>0</td>\n",
       "      <td>0</td>\n",
       "      <td>STON/O2. 3101282</td>\n",
       "      <td>7.9250</td>\n",
       "      <td>NaN</td>\n",
       "      <td>S</td>\n",
       "    </tr>\n",
       "    <tr>\n",
       "      <th>3</th>\n",
       "      <td>4</td>\n",
       "      <td>1</td>\n",
       "      <td>1</td>\n",
       "      <td>Futrelle, Mrs. Jacques Heath (Lily May Peel)</td>\n",
       "      <td>female</td>\n",
       "      <td>35.0</td>\n",
       "      <td>1</td>\n",
       "      <td>0</td>\n",
       "      <td>113803</td>\n",
       "      <td>53.1000</td>\n",
       "      <td>C123</td>\n",
       "      <td>S</td>\n",
       "    </tr>\n",
       "    <tr>\n",
       "      <th>4</th>\n",
       "      <td>5</td>\n",
       "      <td>0</td>\n",
       "      <td>3</td>\n",
       "      <td>Allen, Mr. William Henry</td>\n",
       "      <td>male</td>\n",
       "      <td>35.0</td>\n",
       "      <td>0</td>\n",
       "      <td>0</td>\n",
       "      <td>373450</td>\n",
       "      <td>8.0500</td>\n",
       "      <td>NaN</td>\n",
       "      <td>S</td>\n",
       "    </tr>\n",
       "  </tbody>\n",
       "</table>\n",
       "</div>"
      ],
      "text/plain": [
       "   PassengerId  Survived  Pclass  \\\n",
       "0            1         0       3   \n",
       "1            2         1       1   \n",
       "2            3         1       3   \n",
       "3            4         1       1   \n",
       "4            5         0       3   \n",
       "\n",
       "                                                Name     Sex   Age  SibSp  \\\n",
       "0                            Braund, Mr. Owen Harris    male  22.0      1   \n",
       "1  Cumings, Mrs. John Bradley (Florence Briggs Th...  female  38.0      1   \n",
       "2                             Heikkinen, Miss. Laina  female  26.0      0   \n",
       "3       Futrelle, Mrs. Jacques Heath (Lily May Peel)  female  35.0      1   \n",
       "4                           Allen, Mr. William Henry    male  35.0      0   \n",
       "\n",
       "   Parch            Ticket     Fare Cabin Embarked  \n",
       "0      0         A/5 21171   7.2500   NaN        S  \n",
       "1      0          PC 17599  71.2833   C85        C  \n",
       "2      0  STON/O2. 3101282   7.9250   NaN        S  \n",
       "3      0            113803  53.1000  C123        S  \n",
       "4      0            373450   8.0500   NaN        S  "
      ]
     },
     "execution_count": 14,
     "metadata": {},
     "output_type": "execute_result"
    }
   ],
   "source": [
    "titanic.head(5)"
   ]
  },
  {
   "cell_type": "code",
   "execution_count": 15,
   "id": "58fe9998",
   "metadata": {
    "execution": {
     "iopub.execute_input": "2021-07-20T07:31:27.702721Z",
     "iopub.status.busy": "2021-07-20T07:31:27.701704Z",
     "iopub.status.idle": "2021-07-20T07:31:27.710956Z",
     "shell.execute_reply": "2021-07-20T07:31:27.711440Z",
     "shell.execute_reply.started": "2021-07-20T07:27:51.312297Z"
    },
    "papermill": {
     "duration": 0.060146,
     "end_time": "2021-07-20T07:31:27.711658",
     "exception": false,
     "start_time": "2021-07-20T07:31:27.651512",
     "status": "completed"
    },
    "tags": []
   },
   "outputs": [
    {
     "data": {
      "text/plain": [
       "Embarked\n",
       "C    168\n",
       "Q     77\n",
       "S    644\n",
       "dtype: int64"
      ]
     },
     "execution_count": 15,
     "metadata": {},
     "output_type": "execute_result"
    }
   ],
   "source": [
    "# We require the count of each Embarked so we grou titanic by Embarked\n",
    "Emtitanic = titanic.groupby('Embarked').size()\n",
    "Emtitanic"
   ]
  },
  {
   "cell_type": "code",
   "execution_count": 16,
   "id": "1a749f0c",
   "metadata": {
    "execution": {
     "iopub.execute_input": "2021-07-20T07:31:27.810520Z",
     "iopub.status.busy": "2021-07-20T07:31:27.809428Z",
     "iopub.status.idle": "2021-07-20T07:31:27.813405Z",
     "shell.execute_reply": "2021-07-20T07:31:27.813861Z",
     "shell.execute_reply.started": "2021-07-20T07:27:51.327955Z"
    },
    "papermill": {
     "duration": 0.055446,
     "end_time": "2021-07-20T07:31:27.814088",
     "exception": false,
     "start_time": "2021-07-20T07:31:27.758642",
     "status": "completed"
    },
    "tags": []
   },
   "outputs": [],
   "source": [
    "# Take his index as a labels\n",
    "labels = Emtitanic.index"
   ]
  },
  {
   "cell_type": "code",
   "execution_count": 17,
   "id": "f2266ae3",
   "metadata": {
    "execution": {
     "iopub.execute_input": "2021-07-20T07:31:27.934079Z",
     "iopub.status.busy": "2021-07-20T07:31:27.933359Z",
     "iopub.status.idle": "2021-07-20T07:31:28.083798Z",
     "shell.execute_reply": "2021-07-20T07:31:28.084422Z",
     "shell.execute_reply.started": "2021-07-20T07:27:51.333532Z"
    },
    "papermill": {
     "duration": 0.222367,
     "end_time": "2021-07-20T07:31:28.084731",
     "exception": false,
     "start_time": "2021-07-20T07:31:27.862364",
     "status": "completed"
    },
    "tags": []
   },
   "outputs": [
    {
     "data": {
      "image/png": "[encoded data removed]",
      "text/plain": [
       "<Figure size 432x288 with 1 Axes>"
      ]
     },
     "metadata": {},
     "output_type": "display_data"
    }
   ],
   "source": [
    "plt.pie(Emtitanic, labels=labels)\n",
    "plt.legend()\n",
    "plt.show() "
   ]
  },
  {
   "cell_type": "code",
   "execution_count": 18,
   "id": "3defe6b9",
   "metadata": {
    "execution": {
     "iopub.execute_input": "2021-07-20T07:31:28.185589Z",
     "iopub.status.busy": "2021-07-20T07:31:28.184919Z",
     "iopub.status.idle": "2021-07-20T07:31:28.334445Z",
     "shell.execute_reply": "2021-07-20T07:31:28.335013Z",
     "shell.execute_reply.started": "2021-07-20T07:27:51.479110Z"
    },
    "papermill": {
     "duration": 0.201945,
     "end_time": "2021-07-20T07:31:28.335242",
     "exception": false,
     "start_time": "2021-07-20T07:31:28.133297",
     "status": "completed"
    },
    "tags": []
   },
   "outputs": [
    {
     "data": {
      "image/png": "[encoded data removed]",
      "text/plain": [
       "<Figure size 432x288 with 1 Axes>"
      ]
     },
     "metadata": {},
     "output_type": "display_data"
    }
   ],
   "source": [
    "ptitanic = titanic.groupby('Pclass').size()\n",
    "labels = ptitanic.index\n",
    "plt.pie(ptitanic, labels=labels)\n",
    "plt.legend()\n",
    "plt.show() "
   ]
  },
  {
   "cell_type": "markdown",
   "id": "5ece39cc",
   "metadata": {
    "papermill": {
     "duration": 0.048668,
     "end_time": "2021-07-20T07:31:28.433762",
     "exception": false,
     "start_time": "2021-07-20T07:31:28.385094",
     "status": "completed"
    },
    "tags": []
   },
   "source": [
    "# Heat Map"
   ]
  },
  {
   "cell_type": "code",
   "execution_count": 19,
   "id": "a276669b",
   "metadata": {
    "execution": {
     "iopub.execute_input": "2021-07-20T07:31:28.561648Z",
     "iopub.status.busy": "2021-07-20T07:31:28.560878Z",
     "iopub.status.idle": "2021-07-20T07:31:28.839286Z",
     "shell.execute_reply": "2021-07-20T07:31:28.838660Z",
     "shell.execute_reply.started": "2021-07-20T07:27:51.613348Z"
    },
    "papermill": {
     "duration": 0.355971,
     "end_time": "2021-07-20T07:31:28.839469",
     "exception": false,
     "start_time": "2021-07-20T07:31:28.483498",
     "status": "completed"
    },
    "tags": []
   },
   "outputs": [
    {
     "data": {
      "image/png": "[encoded data removed]",
      "text/plain": [
       "<Figure size 432x288 with 2 Axes>"
      ]
     },
     "metadata": {},
     "output_type": "display_data"
    }
   ],
   "source": [
    "# generating 2-D 10x10 matrix of random numbers\n",
    "# from 1 to 100\n",
    "data = np.random.randint(low=1,\thigh=100,size=(10, 10))\n",
    "# plotting the heatmap\n",
    "hm = sns.heatmap(data=data)\n",
    "plt.show()\n"
   ]
  },
  {
   "cell_type": "code",
   "execution_count": 20,
   "id": "5120637d",
   "metadata": {
    "execution": {
     "iopub.execute_input": "2021-07-20T07:31:28.946337Z",
     "iopub.status.busy": "2021-07-20T07:31:28.945190Z",
     "iopub.status.idle": "2021-07-20T07:31:29.573155Z",
     "shell.execute_reply": "2021-07-20T07:31:29.573690Z",
     "shell.execute_reply.started": "2021-07-20T07:27:51.828682Z"
    },
    "papermill": {
     "duration": 0.684522,
     "end_time": "2021-07-20T07:31:29.573893",
     "exception": false,
     "start_time": "2021-07-20T07:31:28.889371",
     "status": "completed"
    },
    "tags": []
   },
   "outputs": [
    {
     "data": {
      "text/plain": [
       "<AxesSubplot:>"
      ]
     },
     "execution_count": 20,
     "metadata": {},
     "output_type": "execute_result"
    },
    {
     "data": {
      "image/png": "[encoded data removed]",
      "text/plain": [
       "<Figure size 864x720 with 2 Axes>"
      ]
     },
     "metadata": {},
     "output_type": "display_data"
    }
   ],
   "source": [
    "# Create a dataframe that contains correlation of features\n",
    "corrtitanic = titanic.corr()\n",
    "\n",
    "# Plot heatmap of correlation map\n",
    "plt.figure(figsize=(12,10))\n",
    "sns.heatmap(corrtitanic, annot=True)"
   ]
  },
  {
   "cell_type": "markdown",
   "id": "0635ed0a",
   "metadata": {
    "papermill": {
     "duration": 0.055815,
     "end_time": "2021-07-20T07:31:29.683936",
     "exception": false,
     "start_time": "2021-07-20T07:31:29.628121",
     "status": "completed"
    },
    "tags": []
   },
   "source": [
    "* Fare and Pclass are strong negatively correlated\n",
    "* SibSp and Parch are strong positively correlated"
   ]
  },
  {
   "cell_type": "markdown",
   "id": "d08186b4",
   "metadata": {
    "papermill": {
     "duration": 0.053183,
     "end_time": "2021-07-20T07:31:29.792455",
     "exception": false,
     "start_time": "2021-07-20T07:31:29.739272",
     "status": "completed"
    },
    "tags": []
   },
   "source": [
    "# Histogram"
   ]
  },
  {
   "cell_type": "code",
   "execution_count": 21,
   "id": "49c56bff",
   "metadata": {
    "execution": {
     "iopub.execute_input": "2021-07-20T07:31:29.905145Z",
     "iopub.status.busy": "2021-07-20T07:31:29.903971Z",
     "iopub.status.idle": "2021-07-20T07:31:30.100704Z",
     "shell.execute_reply": "2021-07-20T07:31:30.100155Z",
     "shell.execute_reply.started": "2021-07-20T07:27:52.359948Z"
    },
    "papermill": {
     "duration": 0.253642,
     "end_time": "2021-07-20T07:31:30.100871",
     "exception": false,
     "start_time": "2021-07-20T07:31:29.847229",
     "status": "completed"
    },
    "tags": []
   },
   "outputs": [
    {
     "data": {
      "text/plain": [
       "<AxesSubplot:ylabel='Count'>"
      ]
     },
     "execution_count": 21,
     "metadata": {},
     "output_type": "execute_result"
    },
    {
     "data": {
      "image/png": "[encoded data removed]",
      "text/plain": [
       "<Figure size 432x288 with 1 Axes>"
      ]
     },
     "metadata": {},
     "output_type": "display_data"
    }
   ],
   "source": [
    "x = np.random.normal(size=60)\n",
    "sns.histplot(x,bins=6)"
   ]
  },
  {
   "cell_type": "code",
   "execution_count": 22,
   "id": "a70cbefb",
   "metadata": {
    "execution": {
     "iopub.execute_input": "2021-07-20T07:31:30.241247Z",
     "iopub.status.busy": "2021-07-20T07:31:30.238090Z",
     "iopub.status.idle": "2021-07-20T07:31:30.440667Z",
     "shell.execute_reply": "2021-07-20T07:31:30.439974Z",
     "shell.execute_reply.started": "2021-07-20T07:27:52.520449Z"
    },
    "papermill": {
     "duration": 0.285302,
     "end_time": "2021-07-20T07:31:30.440823",
     "exception": false,
     "start_time": "2021-07-20T07:31:30.155521",
     "status": "completed"
    },
    "tags": []
   },
   "outputs": [
    {
     "data": {
      "text/plain": [
       "<AxesSubplot:xlabel='Sales_quantity', ylabel='Count'>"
      ]
     },
     "execution_count": 22,
     "metadata": {},
     "output_type": "execute_result"
    },
    {
     "data": {
      "image/png": "[encoded data removed]",
      "text/plain": [
       "<Figure size 432x288 with 1 Axes>"
      ]
     },
     "metadata": {},
     "output_type": "display_data"
    }
   ],
   "source": [
    "sns.histplot(comp.Sales_quantity, bins=15)"
   ]
  },
  {
   "cell_type": "markdown",
   "id": "c0f395ed",
   "metadata": {
    "papermill": {
     "duration": 0.055952,
     "end_time": "2021-07-20T07:31:30.554058",
     "exception": false,
     "start_time": "2021-07-20T07:31:30.498106",
     "status": "completed"
    },
    "tags": []
   },
   "source": [
    "# Box Plot"
   ]
  },
  {
   "cell_type": "code",
   "execution_count": 23,
   "id": "011c1833",
   "metadata": {
    "execution": {
     "iopub.execute_input": "2021-07-20T07:31:30.684008Z",
     "iopub.status.busy": "2021-07-20T07:31:30.675036Z",
     "iopub.status.idle": "2021-07-20T07:31:30.843750Z",
     "shell.execute_reply": "2021-07-20T07:31:30.842998Z",
     "shell.execute_reply.started": "2021-07-20T07:27:52.703756Z"
    },
    "papermill": {
     "duration": 0.232333,
     "end_time": "2021-07-20T07:31:30.843910",
     "exception": false,
     "start_time": "2021-07-20T07:31:30.611577",
     "status": "completed"
    },
    "tags": []
   },
   "outputs": [
    {
     "data": {
      "image/png": "[encoded data removed]",
      "text/plain": [
       "<Figure size 864x504 with 1 Axes>"
      ]
     },
     "metadata": {},
     "output_type": "display_data"
    }
   ],
   "source": [
    "# Creating dataset\n",
    "np.random.seed(10)\n",
    "data_1 = np.random.normal(100, 10, 200)\n",
    "data_2 = np.random.normal(90, 20, 200)\n",
    "data_3 = np.random.normal(80, 30, 200)\n",
    "data_4 = np.random.normal(70, 40, 200)\n",
    "data = [data_1, data_2, data_3, data_4]\n",
    "fig = plt.figure(figsize =(12, 7))\n",
    "plt.boxplot(data)\n",
    "# show plot\n",
    "plt.show()\n"
   ]
  },
  {
   "cell_type": "code",
   "execution_count": 24,
   "id": "fb25ee92",
   "metadata": {
    "execution": {
     "iopub.execute_input": "2021-07-20T07:31:30.996835Z",
     "iopub.status.busy": "2021-07-20T07:31:30.971563Z",
     "iopub.status.idle": "2021-07-20T07:31:31.139484Z",
     "shell.execute_reply": "2021-07-20T07:31:31.140033Z",
     "shell.execute_reply.started": "2021-07-20T07:27:52.848945Z"
    },
    "papermill": {
     "duration": 0.237408,
     "end_time": "2021-07-20T07:31:31.140293",
     "exception": false,
     "start_time": "2021-07-20T07:31:30.902885",
     "status": "completed"
    },
    "tags": []
   },
   "outputs": [
    {
     "data": {
      "image/png": "[encoded data removed]",
      "text/plain": [
       "<Figure size 432x288 with 1 Axes>"
      ]
     },
     "metadata": {},
     "output_type": "display_data"
    }
   ],
   "source": [
    "plt.boxplot(house.MSSubClass)\n",
    "plt.show()"
   ]
  },
  {
   "cell_type": "markdown",
   "id": "58befa27",
   "metadata": {
    "papermill": {
     "duration": 0.05879,
     "end_time": "2021-07-20T07:31:31.268745",
     "exception": false,
     "start_time": "2021-07-20T07:31:31.209955",
     "status": "completed"
    },
    "tags": []
   },
   "source": [
    "* we have few outliers in MSSubClass"
   ]
  },
  {
   "cell_type": "code",
   "execution_count": 25,
   "id": "3c8838f7",
   "metadata": {
    "execution": {
     "iopub.execute_input": "2021-07-20T07:31:31.409649Z",
     "iopub.status.busy": "2021-07-20T07:31:31.408537Z",
     "iopub.status.idle": "2021-07-20T07:31:31.435077Z",
     "shell.execute_reply": "2021-07-20T07:31:31.434351Z",
     "shell.execute_reply.started": "2021-07-20T07:27:52.959487Z"
    },
    "papermill": {
     "duration": 0.100335,
     "end_time": "2021-07-20T07:31:31.435269",
     "exception": false,
     "start_time": "2021-07-20T07:31:31.334934",
     "status": "completed"
    },
    "tags": []
   },
   "outputs": [
    {
     "data": {
      "text/html": [
       "<div>\n",
       "<style scoped>\n",
       "    .dataframe tbody tr th:only-of-type {\n",
       "        vertical-align: middle;\n",
       "    }\n",
       "\n",
       "    .dataframe tbody tr th {\n",
       "        vertical-align: top;\n",
       "    }\n",
       "\n",
       "    .dataframe thead th {\n",
       "        text-align: right;\n",
       "    }\n",
       "</style>\n",
       "<table border=\"1\" class=\"dataframe\">\n",
       "  <thead>\n",
       "    <tr style=\"text-align: right;\">\n",
       "      <th></th>\n",
       "      <th>battery_power</th>\n",
       "      <th>blue</th>\n",
       "      <th>clock_speed</th>\n",
       "      <th>dual_sim</th>\n",
       "      <th>fc</th>\n",
       "      <th>four_g</th>\n",
       "      <th>int_memory</th>\n",
       "      <th>m_dep</th>\n",
       "      <th>mobile_wt</th>\n",
       "      <th>n_cores</th>\n",
       "      <th>...</th>\n",
       "      <th>px_height</th>\n",
       "      <th>px_width</th>\n",
       "      <th>ram</th>\n",
       "      <th>sc_h</th>\n",
       "      <th>sc_w</th>\n",
       "      <th>talk_time</th>\n",
       "      <th>three_g</th>\n",
       "      <th>touch_screen</th>\n",
       "      <th>wifi</th>\n",
       "      <th>price_range</th>\n",
       "    </tr>\n",
       "  </thead>\n",
       "  <tbody>\n",
       "    <tr>\n",
       "      <th>0</th>\n",
       "      <td>842</td>\n",
       "      <td>0</td>\n",
       "      <td>2.2</td>\n",
       "      <td>0</td>\n",
       "      <td>1</td>\n",
       "      <td>0</td>\n",
       "      <td>7</td>\n",
       "      <td>0.6</td>\n",
       "      <td>188</td>\n",
       "      <td>2</td>\n",
       "      <td>...</td>\n",
       "      <td>20</td>\n",
       "      <td>756</td>\n",
       "      <td>2549</td>\n",
       "      <td>9</td>\n",
       "      <td>7</td>\n",
       "      <td>19</td>\n",
       "      <td>0</td>\n",
       "      <td>0</td>\n",
       "      <td>1</td>\n",
       "      <td>1</td>\n",
       "    </tr>\n",
       "    <tr>\n",
       "      <th>1</th>\n",
       "      <td>1021</td>\n",
       "      <td>1</td>\n",
       "      <td>0.5</td>\n",
       "      <td>1</td>\n",
       "      <td>0</td>\n",
       "      <td>1</td>\n",
       "      <td>53</td>\n",
       "      <td>0.7</td>\n",
       "      <td>136</td>\n",
       "      <td>3</td>\n",
       "      <td>...</td>\n",
       "      <td>905</td>\n",
       "      <td>1988</td>\n",
       "      <td>2631</td>\n",
       "      <td>17</td>\n",
       "      <td>3</td>\n",
       "      <td>7</td>\n",
       "      <td>1</td>\n",
       "      <td>1</td>\n",
       "      <td>0</td>\n",
       "      <td>2</td>\n",
       "    </tr>\n",
       "    <tr>\n",
       "      <th>2</th>\n",
       "      <td>563</td>\n",
       "      <td>1</td>\n",
       "      <td>0.5</td>\n",
       "      <td>1</td>\n",
       "      <td>2</td>\n",
       "      <td>1</td>\n",
       "      <td>41</td>\n",
       "      <td>0.9</td>\n",
       "      <td>145</td>\n",
       "      <td>5</td>\n",
       "      <td>...</td>\n",
       "      <td>1263</td>\n",
       "      <td>1716</td>\n",
       "      <td>2603</td>\n",
       "      <td>11</td>\n",
       "      <td>2</td>\n",
       "      <td>9</td>\n",
       "      <td>1</td>\n",
       "      <td>1</td>\n",
       "      <td>0</td>\n",
       "      <td>2</td>\n",
       "    </tr>\n",
       "    <tr>\n",
       "      <th>3</th>\n",
       "      <td>615</td>\n",
       "      <td>1</td>\n",
       "      <td>2.5</td>\n",
       "      <td>0</td>\n",
       "      <td>0</td>\n",
       "      <td>0</td>\n",
       "      <td>10</td>\n",
       "      <td>0.8</td>\n",
       "      <td>131</td>\n",
       "      <td>6</td>\n",
       "      <td>...</td>\n",
       "      <td>1216</td>\n",
       "      <td>1786</td>\n",
       "      <td>2769</td>\n",
       "      <td>16</td>\n",
       "      <td>8</td>\n",
       "      <td>11</td>\n",
       "      <td>1</td>\n",
       "      <td>0</td>\n",
       "      <td>0</td>\n",
       "      <td>2</td>\n",
       "    </tr>\n",
       "    <tr>\n",
       "      <th>4</th>\n",
       "      <td>1821</td>\n",
       "      <td>1</td>\n",
       "      <td>1.2</td>\n",
       "      <td>0</td>\n",
       "      <td>13</td>\n",
       "      <td>1</td>\n",
       "      <td>44</td>\n",
       "      <td>0.6</td>\n",
       "      <td>141</td>\n",
       "      <td>2</td>\n",
       "      <td>...</td>\n",
       "      <td>1208</td>\n",
       "      <td>1212</td>\n",
       "      <td>1411</td>\n",
       "      <td>8</td>\n",
       "      <td>2</td>\n",
       "      <td>15</td>\n",
       "      <td>1</td>\n",
       "      <td>1</td>\n",
       "      <td>0</td>\n",
       "      <td>1</td>\n",
       "    </tr>\n",
       "  </tbody>\n",
       "</table>\n",
       "<p>5 rows × 21 columns</p>\n",
       "</div>"
      ],
      "text/plain": [
       "   battery_power  blue  clock_speed  dual_sim  fc  four_g  int_memory  m_dep  \\\n",
       "0            842     0          2.2         0   1       0           7    0.6   \n",
       "1           1021     1          0.5         1   0       1          53    0.7   \n",
       "2            563     1          0.5         1   2       1          41    0.9   \n",
       "3            615     1          2.5         0   0       0          10    0.8   \n",
       "4           1821     1          1.2         0  13       1          44    0.6   \n",
       "\n",
       "   mobile_wt  n_cores  ...  px_height  px_width   ram  sc_h  sc_w  talk_time  \\\n",
       "0        188        2  ...         20       756  2549     9     7         19   \n",
       "1        136        3  ...        905      1988  2631    17     3          7   \n",
       "2        145        5  ...       1263      1716  2603    11     2          9   \n",
       "3        131        6  ...       1216      1786  2769    16     8         11   \n",
       "4        141        2  ...       1208      1212  1411     8     2         15   \n",
       "\n",
       "   three_g  touch_screen  wifi  price_range  \n",
       "0        0             0     1            1  \n",
       "1        1             1     0            2  \n",
       "2        1             1     0            2  \n",
       "3        1             0     0            2  \n",
       "4        1             1     0            1  \n",
       "\n",
       "[5 rows x 21 columns]"
      ]
     },
     "execution_count": 25,
     "metadata": {},
     "output_type": "execute_result"
    }
   ],
   "source": [
    "mobile.head()"
   ]
  },
  {
   "cell_type": "code",
   "execution_count": 26,
   "id": "5bf87c49",
   "metadata": {
    "execution": {
     "iopub.execute_input": "2021-07-20T07:31:31.573311Z",
     "iopub.status.busy": "2021-07-20T07:31:31.572473Z",
     "iopub.status.idle": "2021-07-20T07:31:31.695842Z",
     "shell.execute_reply": "2021-07-20T07:31:31.694057Z",
     "shell.execute_reply.started": "2021-07-20T07:27:52.982192Z"
    },
    "papermill": {
     "duration": 0.19956,
     "end_time": "2021-07-20T07:31:31.696051",
     "exception": false,
     "start_time": "2021-07-20T07:31:31.496491",
     "status": "completed"
    },
    "tags": []
   },
   "outputs": [
    {
     "data": {
      "image/png": "[encoded data removed]",
      "text/plain": [
       "<Figure size 432x288 with 1 Axes>"
      ]
     },
     "metadata": {},
     "output_type": "display_data"
    }
   ],
   "source": [
    "#  plot multiple boxplot together\n",
    "# Create a list of features \n",
    "features = [mobile.n_cores, mobile.fc]\n",
    "plt.boxplot(features)\n",
    "plt.show()"
   ]
  },
  {
   "cell_type": "markdown",
   "id": "e1198c27",
   "metadata": {
    "papermill": {
     "duration": 0.060784,
     "end_time": "2021-07-20T07:31:31.816607",
     "exception": false,
     "start_time": "2021-07-20T07:31:31.755823",
     "status": "completed"
    },
    "tags": []
   },
   "source": [
    "* fc featues has some outliers"
   ]
  },
  {
   "cell_type": "markdown",
   "id": "dfe40687",
   "metadata": {
    "papermill": {
     "duration": 0.06026,
     "end_time": "2021-07-20T07:31:31.939744",
     "exception": false,
     "start_time": "2021-07-20T07:31:31.879484",
     "status": "completed"
    },
    "tags": []
   },
   "source": [
    "# Tree Map"
   ]
  },
  {
   "cell_type": "code",
   "execution_count": 27,
   "id": "0b4acbf3",
   "metadata": {
    "execution": {
     "iopub.execute_input": "2021-07-20T07:31:32.066747Z",
     "iopub.status.busy": "2021-07-20T07:31:32.065798Z",
     "iopub.status.idle": "2021-07-20T07:31:32.205569Z",
     "shell.execute_reply": "2021-07-20T07:31:32.204894Z",
     "shell.execute_reply.started": "2021-07-20T07:27:53.091687Z"
    },
    "papermill": {
     "duration": 0.205909,
     "end_time": "2021-07-20T07:31:32.205730",
     "exception": false,
     "start_time": "2021-07-20T07:31:31.999821",
     "status": "completed"
    },
    "tags": []
   },
   "outputs": [
    {
     "data": {
      "image/png": "[encoded data removed]",
      "text/plain": [
       "<Figure size 432x288 with 1 Axes>"
      ]
     },
     "metadata": {},
     "output_type": "display_data"
    }
   ],
   "source": [
    "import squarify # pip install squarify\n",
    "sizes = [50, 25, 12, 6]\n",
    "squarify.plot(sizes)\n",
    "plt.show()"
   ]
  },
  {
   "cell_type": "code",
   "execution_count": 28,
   "id": "8582a567",
   "metadata": {
    "execution": {
     "iopub.execute_input": "2021-07-20T07:31:32.338730Z",
     "iopub.status.busy": "2021-07-20T07:31:32.337380Z",
     "iopub.status.idle": "2021-07-20T07:31:32.628511Z",
     "shell.execute_reply": "2021-07-20T07:31:32.627901Z",
     "shell.execute_reply.started": "2021-07-20T07:27:53.209175Z"
    },
    "papermill": {
     "duration": 0.362214,
     "end_time": "2021-07-20T07:31:32.628681",
     "exception": false,
     "start_time": "2021-07-20T07:31:32.266467",
     "status": "completed"
    },
    "tags": []
   },
   "outputs": [
    {
     "data": {
      "image/png": "[encoded data removed]",
      "text/plain": [
       "<Figure size 1008x864 with 1 Axes>"
      ]
     },
     "metadata": {},
     "output_type": "display_data"
    }
   ],
   "source": [
    "plt.figure(figsize=(14,12))\n",
    "ptitanic = house.groupby('Neighborhood').size()\n",
    "labels = ptitanic.index\n",
    "squarify.plot(ptitanic, label=labels)\n",
    "plt.show() "
   ]
  },
  {
   "cell_type": "markdown",
   "id": "8a72a077",
   "metadata": {
    "papermill": {
     "duration": 0.061162,
     "end_time": "2021-07-20T07:31:32.751630",
     "exception": false,
     "start_time": "2021-07-20T07:31:32.690468",
     "status": "completed"
    },
    "tags": []
   },
   "source": [
    "* we can see distribution of each Neighborhood compare with each other"
   ]
  },
  {
   "cell_type": "markdown",
   "id": "02a86609",
   "metadata": {
    "papermill": {
     "duration": 0.063295,
     "end_time": "2021-07-20T07:31:32.877055",
     "exception": false,
     "start_time": "2021-07-20T07:31:32.813760",
     "status": "completed"
    },
    "tags": []
   },
   "source": [
    "## I hope this Helpful 😃"
   ]
  }
 ],
 "metadata": {
  "kernelspec": {
   "display_name": "Python 3",
   "language": "python",
   "name": "python3"
  },
  "language_info": {
   "codemirror_mode": {
    "name": "ipython",
    "version": 3
   },
   "file_extension": ".py",
   "mimetype": "text/x-python",
   "name": "python",
   "nbconvert_exporter": "python",
   "pygments_lexer": "ipython3",
   "version": "3.7.10"
  },
  "papermill": {
   "default_parameters": {},
   "duration": 22.990372,
   "end_time": "2021-07-20T07:31:34.613299",
   "environment_variables": {},
   "exception": null,
   "input_path": "__notebook__.ipynb",
   "output_path": "__notebook__.ipynb",
   "parameters": {},
   "start_time": "2021-07-20T07:31:11.622927",
   "version": "2.3.3"
  }
 },
 "nbformat": 4,
 "nbformat_minor": 5
}
